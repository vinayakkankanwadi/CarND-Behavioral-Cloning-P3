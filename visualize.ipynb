{
 "cells": [
  {
   "cell_type": "code",
   "execution_count": 1,
   "metadata": {},
   "outputs": [
    {
     "name": "stderr",
     "output_type": "stream",
     "text": [
      "Using TensorFlow backend.\n"
     ]
    }
   ],
   "source": [
    "import cv2               #for image read, flip, crop etc\n",
    "import csv               #for csv file operation\n",
    "import numpy as np       #for numpy array operation\n",
    "import os                #for directory operation\n",
    "import sklearn           #for yield, util etc\n",
    "from sklearn.model_selection import train_test_split    # split train test data\n",
    "\n",
    "#for model\n",
    "from keras.models import Sequential, Model\n",
    "from keras.layers import Flatten, Dense, Lambda, Convolution2D, Cropping2D, Dropout\n",
    "from keras.layers.pooling import MaxPooling2D\n",
    "import matplotlib.pyplot as plt\n",
    "%matplotlib inline"
   ]
  },
  {
   "cell_type": "code",
   "execution_count": 2,
   "metadata": {
    "collapsed": true
   },
   "outputs": [],
   "source": [
    "def getRelativeImagePath(dataPath, line):\n",
    "    \"\"\"\n",
    "    @description:      This module gets relative image path from absolution path\n",
    "    @param line:       line read from driving log csv\n",
    "    @return newLine:   new line with relative path\n",
    "    @example input:    /Users/udacity/CarND-Behavioral-Cloning-P3/data/IMG/center_2017_12_02_17_49_38_331.jpg\n",
    "    @example output:   ./data/IMG/center_2017_12_02_17_49_38_331.jpg\n",
    "    \"\"\"\n",
    "    source_path = line\n",
    "    filename = source_path.split('/')[-1]\n",
    "    newLine = dataPath +'/IMG/'+filename.strip()\n",
    "    return newLine"
   ]
  },
  {
   "cell_type": "code",
   "execution_count": 3,
   "metadata": {
    "collapsed": true
   },
   "outputs": [],
   "source": [
    "def getLinesFromDrivingLogs(dataPath, skipHeader=False):\n",
    "    \"\"\"\n",
    "    @description:      This module get list of lines from driving_log.csv\n",
    "    @param dataPath:   data path where data is stored\n",
    "    @param skipHeader: default false, true to skip header in csv\n",
    "    @return:           array of lines\n",
    "    \"\"\"\n",
    "    lines = []\n",
    "    with open(dataPath + '/driving_log.csv') as csvFile:\n",
    "        reader = csv.reader(csvFile)\n",
    "        if skipHeader:\n",
    "            next(reader, None)\n",
    "        for line in reader:\n",
    "            lines.append(line)\n",
    "    return lines"
   ]
  },
  {
   "cell_type": "code",
   "execution_count": 4,
   "metadata": {
    "collapsed": true
   },
   "outputs": [],
   "source": [
    "def getImages(dataPath):\n",
    "    \"\"\"\n",
    "    @description:     This module gets center, left, right and \n",
    "                      total measurement(stearing) using driving log csv    \n",
    "    @param dataPath:  data path where data is stored\n",
    "    @return:          array of center, left, right path and measurement(stearing)\n",
    "    \"\"\"\n",
    "    directories = [x[0] for x in os.walk(dataPath)]\n",
    "    dataDirectories = list(filter(lambda directory: os.path.isfile(directory + '/driving_log.csv'), directories))\n",
    "    centerTotal = []\n",
    "    leftTotal = []\n",
    "    rightTotal = []\n",
    "    measurementTotal = []\n",
    "    print(dataDirectories)\n",
    "    for directory in dataDirectories:\n",
    "        lines = getLinesFromDrivingLogs(directory)\n",
    "        center = []\n",
    "        left = []\n",
    "        right = []\n",
    "        measurements = []\n",
    "        for line in lines:\n",
    "            measurements.append(float(line[3]))\n",
    "            center.append(getRelativeImagePath(dataPath,line[0]))\n",
    "            left.append(getRelativeImagePath(dataPath,line[1]))\n",
    "            right.append(getRelativeImagePath(dataPath,line[2]))\n",
    "        centerTotal.extend(center)\n",
    "        leftTotal.extend(left)\n",
    "        rightTotal.extend(right)\n",
    "        measurementTotal.extend(measurements)\n",
    "\n",
    "    return (centerTotal, leftTotal, rightTotal, measurementTotal)"
   ]
  },
  {
   "cell_type": "code",
   "execution_count": 5,
   "metadata": {
    "collapsed": true
   },
   "outputs": [],
   "source": [
    "def combineImagesAndMeasurementsCorrection(center, left, right, measurement, correction):\n",
    "    \"\"\"\n",
    "    @description: combine image paths from center, left, right using correction\n",
    "    @center:      center image path\n",
    "    @left:        left image path\n",
    "    @right:       right image path\n",
    "    @return:      array of imagePath and measurements\n",
    "    \"\"\"\n",
    "    imagePaths = []\n",
    "    imagePaths.extend(center)\n",
    "    imagePaths.extend(left)\n",
    "    imagePaths.extend(right)\n",
    "    measurements = []\n",
    "    measurements.extend(measurement)\n",
    "    measurements.extend([x + correction for x in measurement])\n",
    "    measurements.extend([x - correction for x in measurement])\n",
    "    return (imagePaths, measurements)"
   ]
  },
  {
   "cell_type": "code",
   "execution_count": 6,
   "metadata": {
    "collapsed": true
   },
   "outputs": [],
   "source": [
    "def generator(samples, batch_size=32):\n",
    "    \"\"\"\n",
    "    @description:      generates required images and measurement \n",
    "                       using sample(training/validation) in batches of batch size\n",
    "    @param samples:    list of pairs containing imagePath and measuremnet\n",
    "    @param batch_size: batch size to generate data, default is 32 \n",
    "    \"\"\"\n",
    "    num_samples = len(samples)\n",
    "    while 1: # Loops forever, generator never ends\n",
    "        samples = sklearn.utils.shuffle(samples)\n",
    "        for offset in range(0, num_samples, batch_size):\n",
    "            batch_samples = samples[offset:offset+batch_size]\n",
    "\n",
    "            images = []\n",
    "            angles = []\n",
    "            for imagePath, measurement in batch_samples:\n",
    "                originalImage = cv2.imread(imagePath)\n",
    "                image = cv2.cvtColor(originalImage, cv2.COLOR_BGR2RGB)\n",
    "                images.append(image)\n",
    "                angles.append(measurement)\n",
    "                # Data augment: Flipping images\n",
    "                images.append(cv2.flip(image,1))\n",
    "                angles.append(measurement*-1.0)\n",
    "\n",
    "            # Data augment: trim image to only see section with road\n",
    "            inputs = np.array(images)\n",
    "            outputs = np.array(angles)\n",
    "            yield sklearn.utils.shuffle(inputs, outputs)"
   ]
  },
  {
   "cell_type": "code",
   "execution_count": 7,
   "metadata": {
    "collapsed": true
   },
   "outputs": [],
   "source": [
    "def getNvidiaModel():\n",
    "    \"\"\"\n",
    "    @description: NVIDIA CNN model for keras 1\n",
    "    \"\"\"\n",
    "    model = Sequential()\n",
    "    model.add(Lambda(lambda x: (x / 255.0) - 0.5, input_shape=(160,320,3)))\n",
    "    model.add(Cropping2D(cropping=((50,20), (0,0))))\n",
    "    model.add(Convolution2D(24,5,5, subsample=(2,2), activation='relu'))\n",
    "    model.add(Convolution2D(36,5,5, subsample=(2,2), activation='relu'))\n",
    "    model.add(Convolution2D(48,5,5, subsample=(2,2), activation='relu'))\n",
    "    model.add(Convolution2D(64,3,3, activation='relu'))\n",
    "    model.add(Convolution2D(64,3,3, activation='relu'))\n",
    "    model.add(Flatten())\n",
    "    model.add(Dropout(0.5))\n",
    "    model.add(Dense(100))\n",
    "    model.add(Dropout(0.5))\n",
    "    model.add(Dense(50))\n",
    "    model.add(Dense(10))\n",
    "    model.add(Dense(1))\n",
    "    return model"
   ]
  },
  {
   "cell_type": "code",
   "execution_count": 8,
   "metadata": {},
   "outputs": [
    {
     "name": "stdout",
     "output_type": "stream",
     "text": [
      "['data']\n",
      "Total Images: 37236\n"
     ]
    }
   ],
   "source": [
    "# Reading images.\n",
    "centerPaths, leftPaths, rightPaths, measurements = getImages('data')\n",
    "imagePaths, measurements = combineImagesAndMeasurementsCorrection(centerPaths, leftPaths, rightPaths, measurements, 0.2)\n",
    "print('Total Images: {}'.format( len(imagePaths)))"
   ]
  },
  {
   "cell_type": "code",
   "execution_count": 9,
   "metadata": {},
   "outputs": [
    {
     "name": "stdout",
     "output_type": "stream",
     "text": [
      "Train samples: 29788\n",
      "Validation samples: 7448\n"
     ]
    }
   ],
   "source": [
    "# Splitting samples into training and validation samples\n",
    "samples = list(zip(imagePaths, measurements))\n",
    "train_samples, validation_samples = train_test_split(samples, test_size=0.2)\n",
    "\n",
    "print('Train samples: {}'.format(len(train_samples)))\n",
    "print('Validation samples: {}'.format(len(validation_samples)))"
   ]
  },
  {
   "cell_type": "code",
   "execution_count": 10,
   "metadata": {
    "collapsed": true
   },
   "outputs": [],
   "source": [
    "# Creating train and validation generators.\n",
    "train_generator = generator(train_samples, batch_size=32)\n",
    "validation_generator = generator(validation_samples, batch_size=32)"
   ]
  },
  {
   "cell_type": "code",
   "execution_count": 11,
   "metadata": {},
   "outputs": [
    {
     "name": "stdout",
     "output_type": "stream",
     "text": [
      "____________________________________________________________________________________________________\n",
      "Layer (type)                     Output Shape          Param #     Connected to                     \n",
      "====================================================================================================\n",
      "lambda_1 (Lambda)                (None, 160, 320, 3)   0           lambda_input_1[0][0]             \n",
      "____________________________________________________________________________________________________\n",
      "cropping2d_1 (Cropping2D)        (None, 90, 320, 3)    0           lambda_1[0][0]                   \n",
      "____________________________________________________________________________________________________\n",
      "convolution2d_1 (Convolution2D)  (None, 43, 158, 24)   1824        cropping2d_1[0][0]               \n",
      "____________________________________________________________________________________________________\n",
      "convolution2d_2 (Convolution2D)  (None, 20, 77, 36)    21636       convolution2d_1[0][0]            \n",
      "____________________________________________________________________________________________________\n",
      "convolution2d_3 (Convolution2D)  (None, 8, 37, 48)     43248       convolution2d_2[0][0]            \n",
      "____________________________________________________________________________________________________\n",
      "convolution2d_4 (Convolution2D)  (None, 6, 35, 64)     27712       convolution2d_3[0][0]            \n",
      "____________________________________________________________________________________________________\n",
      "convolution2d_5 (Convolution2D)  (None, 4, 33, 64)     36928       convolution2d_4[0][0]            \n",
      "____________________________________________________________________________________________________\n",
      "flatten_1 (Flatten)              (None, 8448)          0           convolution2d_5[0][0]            \n",
      "____________________________________________________________________________________________________\n",
      "dropout_1 (Dropout)              (None, 8448)          0           flatten_1[0][0]                  \n",
      "____________________________________________________________________________________________________\n",
      "dense_1 (Dense)                  (None, 100)           844900      dropout_1[0][0]                  \n",
      "____________________________________________________________________________________________________\n",
      "dropout_2 (Dropout)              (None, 100)           0           dense_1[0][0]                    \n",
      "____________________________________________________________________________________________________\n",
      "dense_2 (Dense)                  (None, 50)            5050        dropout_2[0][0]                  \n",
      "____________________________________________________________________________________________________\n",
      "dense_3 (Dense)                  (None, 10)            510         dense_2[0][0]                    \n",
      "____________________________________________________________________________________________________\n",
      "dense_4 (Dense)                  (None, 1)             11          dense_3[0][0]                    \n",
      "====================================================================================================\n",
      "Total params: 981,819\n",
      "Trainable params: 981,819\n",
      "Non-trainable params: 0\n",
      "____________________________________________________________________________________________________\n"
     ]
    }
   ],
   "source": [
    "# Creating Model\n",
    "model = getNvidiaModel()\n",
    "\n",
    "# Compiling and training the model\n",
    "model.compile(loss='mse', optimizer='adam')\n",
    " \n",
    "model.summary()"
   ]
  },
  {
   "cell_type": "code",
   "execution_count": 12,
   "metadata": {},
   "outputs": [
    {
     "name": "stdout",
     "output_type": "stream",
     "text": [
      "Epoch 1/5\n",
      "29760/29788 [============================>.] - ETA: 0s - loss: 0.0778"
     ]
    },
    {
     "name": "stderr",
     "output_type": "stream",
     "text": [
      "/root/miniconda3/envs/carnd-term1/lib/python3.5/site-packages/keras/engine/training.py:1569: UserWarning: Epoch comprised more than `samples_per_epoch` samples, which might affect learning results. Set `samples_per_epoch` correctly to avoid this warning.\n",
      "  warnings.warn('Epoch comprised more than '\n"
     ]
    },
    {
     "name": "stdout",
     "output_type": "stream",
     "text": [
      "29824/29788 [==============================] - 723s - loss: 0.0779 - val_loss: 0.0613\n",
      "Epoch 2/5\n",
      "29816/29788 [==============================] - 718s - loss: 0.0615 - val_loss: 0.0554\n",
      "Epoch 3/5\n",
      "29824/29788 [==============================] - 708s - loss: 0.0586 - val_loss: 0.0538\n",
      "Epoch 4/5\n",
      "29816/29788 [==============================] - 717s - loss: 0.0582 - val_loss: 0.0532\n",
      "Epoch 5/5\n",
      "29824/29788 [==============================] - 704s - loss: 0.0560 - val_loss: 0.0499\n"
     ]
    }
   ],
   "source": [
    "history = model.fit_generator(train_generator, samples_per_epoch= \\\n",
    "                 len(train_samples) , validation_data=validation_generator, \\\n",
    "                 nb_val_samples=len(validation_samples), nb_epoch=5, verbose=1)\n",
    "    \n",
    "model.save('model.h5')"
   ]
  },
  {
   "cell_type": "code",
   "execution_count": 13,
   "metadata": {},
   "outputs": [
    {
     "data": {
      "image/png": "[encoded data removed]",
      "text/plain": [
       "<matplotlib.figure.Figure at 0x7f5a7ab29f28>"
      ]
     },
     "metadata": {},
     "output_type": "display_data"
    }
   ],
   "source": [
    "fig, ax = plt.subplots(figsize=(12,4))\n",
    "plt.plot(history.history['loss'], color='red', label='Training set loss')\n",
    "plt.plot(history.history['val_loss'], color='blue', label='Validation set loss')\n",
    "plt.title('Model mean squared error loss(MSE)')\n",
    "plt.ylabel('mse')\n",
    "plt.xlabel('epoch')\n",
    "legend = ax.legend(loc='upper center', shadow=True)\n",
    "frame = legend.get_frame()\n",
    "frame.set_facecolor('0.90')"
   ]
  }
 ],
 "metadata": {
  "anaconda-cloud": {},
  "kernelspec": {
   "display_name": "Python 3",
   "language": "python",
   "name": "python3"
  },
  "language_info": {
   "codemirror_mode": {
    "name": "ipython",
    "version": 3
   },
   "file_extension": ".py",
   "mimetype": "text/x-python",
   "name": "python",
   "nbconvert_exporter": "python",
   "pygments_lexer": "ipython3",
   "version": "3.5.2"
  },
  "widgets": {
   "state": {},
   "version": "1.1.2"
  }
 },
 "nbformat": 4,
 "nbformat_minor": 1
}
